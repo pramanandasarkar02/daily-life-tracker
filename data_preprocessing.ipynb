{
 "cells": [
  {
   "cell_type": "code",
   "execution_count": 12,
   "id": "09957d7a",
   "metadata": {},
   "outputs": [],
   "source": [
    "import cv2\n",
    "import os"
   ]
  },
  {
   "cell_type": "code",
   "execution_count": 13,
   "id": "332936fc",
   "metadata": {},
   "outputs": [],
   "source": [
    "def extract_frames(video_id, video_path, output_dir, desired_fps=30):\n",
    "    \n",
    "    if not os.path.exists(output_dir):\n",
    "        os.makedirs(output_dir)\n",
    "    \n",
    "\n",
    "    cap = cv2.VideoCapture(video_path)\n",
    "    if not cap.isOpened():\n",
    "        print(f\"Error could not open video file '{video_path}'\")\n",
    "        return \n",
    "    video_fps = cap.get(cv2.CAP_PROP_FPS)\n",
    "    if video_fps <= 0:\n",
    "        print(\"Error: fps must be a positive number\")\n",
    "        cap.release()\n",
    "        return \n",
    "    frame_interval = video_fps / desired_fps\n",
    "\n",
    "    frame_count = 0\n",
    "    extracted_count = 0\n",
    "    next_extract_frame = 0\n",
    "\n",
    "    while cap.isOpened():\n",
    "        ret, frame = cap.read()\n",
    "        if not ret:\n",
    "            break \n",
    "        \n",
    "        if frame_count >= next_extract_frame:\n",
    "            image_path = os.path.join(output_dir, f\"{video_id}_frame_{extracted_count:05d}.jpg\")\n",
    "            cv2.imwrite(image_path, frame)\n",
    "            extracted_count += 1\n",
    "            next_extract_frame += frame_interval\n",
    "\n",
    "        frame_count += 1\n",
    "    cap.release()\n",
    "    print(f\"Video: {video_id} Extracted: {extracted_count}\")\n",
    "\n"
   ]
  },
  {
   "cell_type": "code",
   "execution_count": 14,
   "id": "293e8b4d",
   "metadata": {},
   "outputs": [],
   "source": [
    "# extract_frames(\"VIDEO_001\",\"/home/pramananda/working_dir/swe/projects/daily-life-tracker/data/videos/VIDEO_001.mkv\", \"/home/pramananda/working_dir/swe/projects/daily-life-tracker/data/video-frame/VIDEO_001\", desired_fps=10)"
   ]
  },
  {
   "cell_type": "code",
   "execution_count": 15,
   "id": "e4847898",
   "metadata": {},
   "outputs": [
    {
     "name": "stdout",
     "output_type": "stream",
     "text": [
      "Video: VIDEO_009 Extracted: 438\n",
      "Video: VIDEO_006 Extracted: 239\n",
      "Video: VIDEO_003 Extracted: 472\n",
      "Video: VIDEO_007 Extracted: 467\n",
      "Video: VIDEO_002 Extracted: 312\n",
      "Video: VIDEO_011 Extracted: 778\n",
      "Video: VIDEO_004 Extracted: 345\n",
      "Video: VIDEO_008 Extracted: 272\n",
      "Video: VIDEO_001 Extracted: 207\n",
      "Video: VIDEO_010 Extracted: 871\n",
      "Video: VIDEO_005 Extracted: 565\n"
     ]
    }
   ],
   "source": [
    "videos_dir = \"/home/pramananda/working_dir/swe/projects/daily-life-tracker/data/videos\"\n",
    "output_dir = \"/home/pramananda/working_dir/swe/projects/daily-life-tracker/data/video-frame\"\n",
    "\n",
    "os.makedirs(output_dir, exist_ok=True)\n",
    "\n",
    "for video_file in os.listdir(videos_dir):\n",
    "    if not video_file.lower().endswith((\".mp4\", \".avi\", \".mov\", \".mkv\")):\n",
    "        continue  \n",
    "\n",
    "    video_id, _ = os.path.splitext(video_file)\n",
    "    video_filepath = os.path.join(videos_dir, video_file)\n",
    "    out_dir = os.path.join(output_dir, video_id)\n",
    "    os.makedirs(out_dir, exist_ok=True)\n",
    "\n",
    "    extract_frames(video_id, video_filepath, out_dir, desired_fps=10)\n"
   ]
  }
 ],
 "metadata": {
  "kernelspec": {
   "display_name": "env",
   "language": "python",
   "name": "python3"
  },
  "language_info": {
   "codemirror_mode": {
    "name": "ipython",
    "version": 3
   },
   "file_extension": ".py",
   "mimetype": "text/x-python",
   "name": "python",
   "nbconvert_exporter": "python",
   "pygments_lexer": "ipython3",
   "version": "3.13.7"
  }
 },
 "nbformat": 4,
 "nbformat_minor": 5
}
